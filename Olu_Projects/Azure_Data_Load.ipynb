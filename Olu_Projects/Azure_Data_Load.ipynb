{
 "cells": [
  {
   "cell_type": "code",
   "execution_count": null,
   "metadata": {},
   "outputs": [],
   "source": [
    "import pandas as pd\n",
    "from pandas import DataFrame, Series\n",
    "import numpy as np\n",
    "import os\n",
    "import glob\n",
    "import urllib\n",
    "from sqlalchemy import create_engine\n",
    "single_file_path = \"C:\\\\PythonTraining\\\\files\\\\Azurefiles\\\\usage_only\\\\Usage_15012019_14022019.csv\"\n",
    "# all_file_path = \"C:\\\\PythonTraining\\\\files\\\\Azurefiles\\\\usage_only\\\\*.csv\"\n",
    "\n",
    "\n",
    "class AzureDataLoad:\n",
    "    \n",
    "    def __init__(self, file_path: str, all_file_path: str):\n",
    "        self.single_file_path = single_file_path\n",
    "        self.df:DataFrame = pd.read_csv(self.single_file_path)\n",
    "        self.all_file_path = all_file_path\n",
    "        self.params = urllib.parse.quote_plus(r'DRIVER={SQL+Server+Native+Client+11.0};SERVER=OLU;DATABASE=Python;Trusted_Connection=yes')\n",
    "        self.conn_str = 'mssql+pyodbc:///?odbc_connect={}'.format(self.params)\n",
    "        self.engine = create_engine(self.conn_str)\n",
    "\n",
    "        \n",
    "#     Load single csv file into sql server    \n",
    "    def ingest_to_sql_server(self, table_name: str):\n",
    "        return self.df.to_sql(table_name, self.conn_str, index=False, if_exists='replace')\n",
    "    \n",
    "#     multiple load insql server\n",
    "    def ingest_merged_files_to_sql_server(self, combined_tbl_name: str):\n",
    "        self.all_file_path = \"C:\\\\PythonTraining\\\\files\\\\Azurefiles\\\\usage_only\\\\*.csv\"\n",
    "#         return pd.concat([pd.read_csv(file) for file in glob.glob(self.all_file_path)])\n",
    "        combined_csv_files = pd.concat([pd.read_csv(file) for file in glob.glob(self.all_file_path)])\n",
    "        return combined_csv_files.to_sql(combined_tbl_name, self.conn_str, index=False, if_exists='replace')\n",
    "        \n",
    "\n",
    "az = AzureDataLoad(single_file_path, all_file_path)        \n",
    "# az.ingest_to_sql_server('test_csv')\n",
    "az.ingest_merged_files_to_sql_server('new_combined')\n"
   ]
  },
  {
   "cell_type": "code",
   "execution_count": null,
   "metadata": {},
   "outputs": [],
   "source": []
  }
 ],
 "metadata": {
  "kernelspec": {
   "display_name": "Python 3",
   "language": "python",
   "name": "python3"
  },
  "language_info": {
   "codemirror_mode": {
    "name": "ipython",
    "version": 3
   },
   "file_extension": ".py",
   "mimetype": "text/x-python",
   "name": "python",
   "nbconvert_exporter": "python",
   "pygments_lexer": "ipython3",
   "version": "3.7.6"
  }
 },
 "nbformat": 4,
 "nbformat_minor": 4
}
