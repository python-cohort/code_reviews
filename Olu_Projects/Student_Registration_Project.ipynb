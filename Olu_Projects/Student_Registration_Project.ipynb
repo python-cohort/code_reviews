{
 "cells": [
  {
   "cell_type": "code",
   "execution_count": null,
   "metadata": {},
   "outputs": [],
   "source": [
    "#Student Project - Not Completed"
   ]
  },
  {
   "cell_type": "code",
   "execution_count": null,
   "metadata": {},
   "outputs": [],
   "source": [
    "import pandas as pd\n",
    "import MySQLdb\n",
    "con = MySQLdb.connect(user='python_user',passwd='Python123',host='localhost', db='Student_Reg')\n",
    "cursor = con.cursor()\n",
    "if cursor:\n",
    "    print('connection successful!')\n",
    "\n",
    "def execute_query(query: str):\n",
    "    cursor.execute(query)\n",
    "    con.commit\n",
    "\n",
    "class StudentReg:\n",
    "    \n",
    "    def __init__(self):\n",
    "#         self.first_name = None \n",
    "#         self.last_name = None\n",
    "        self.full_name = Studentname().full_name\n",
    "        self.username = UserName().stud_username\n",
    "        self.gender = input('Enter your gender')\n",
    "#         self.birth_date = input('Enter DOB in YYYY-MM-DD')\n",
    "#         self.address = Address().full_address\n",
    "\n",
    "class StudentName:\n",
    "    def __init__(self):\n",
    "        self.first_name: str = input('Enter first name: ')\n",
    "        self.last_name: str = input('Enter last name: ')\n",
    "        self.full_name: str = f'{self.first_name} {self.last_name}'\n",
    "#         self.stud_username = f'{self.firstname_extract}{self.lastname_extract}{self.addnum}'\n",
    "        \n",
    "class UserName(StudentName):\n",
    "    def __init__(self):\n",
    "        super().__init__()\n",
    "        self.firstname_extract = self.first_name[0].upper()\n",
    "        self.lastname_extract = self.last_name[:5].capitalize()\n",
    "        self.addnum = '01'\n",
    "        self.stud_username =  f'{self.firstname_extract}{self.lastname_extract}{self.addnum}'\n",
    "        self.birth_date = input('Enter DOB in YYYY-MM-DD')\n",
    "        self.address = Address().full_address\n",
    "        query = f\"\"\"\n",
    "        INSERT INTO student_details (student_name,username,birth_date,address)\n",
    "        VALUES({self.full_name},{self.stud_username},{self.birth_date},{self.address})\n",
    "        \"\"\"\n",
    "        execute_query(query)            \n",
    "\n",
    "            \n",
    "class Address:\n",
    "    \n",
    "    def __init__(self):\n",
    "        self.street = input('Enter the street address: ').capitalize()\n",
    "        self.city = input('Enter the city name: ').capitalize()\n",
    "        self.county = input('Enter the county name: ').capitalize()\n",
    "        self.post_code = input('Enter the post code: ').upper()\n",
    "        self.full_address = f'{self.street}, {self.city}, ' \\\n",
    "                        f'{self.county}. {self.post_code}'        \n",
    "            \n",
    "\n",
    "StudentReg()"
   ]
  },
  {
   "cell_type": "code",
   "execution_count": 1,
   "metadata": {},
   "outputs": [
    {
     "data": {
      "text/plain": [
       "'C:\\\\Users\\\\Olu\\\\PythonTraining\\\\PandasTraining\\\\MYSQL_Connect_12092020\\\\StudentProject'"
      ]
     },
     "execution_count": 1,
     "metadata": {},
     "output_type": "execute_result"
    }
   ],
   "source": [
    "pwd"
   ]
  },
  {
   "cell_type": "code",
   "execution_count": null,
   "metadata": {},
   "outputs": [],
   "source": [
    "import MySQLdb\n",
    "con = MySQLdb.connect(user='python_user',passwd='Python123',host='localhost', db='Student_Reg')\n",
    "cursor = con.cursor()\n",
    "import pandas as pd\n",
    "query = 'Select * from student_details'\n",
    "df = pd.read_sql(query, con)\n",
    "df"
   ]
  },
  {
   "cell_type": "code",
   "execution_count": null,
   "metadata": {
    "scrolled": true
   },
   "outputs": [],
   "source": [
    "def username(firstname, lastname):\n",
    "    firstname_extract = firstname[0].upper()\n",
    "    lastname_extract = lastname[:5].capitalize()\n",
    "    addnum = '01'\n",
    "    return firstname_extract + lastname_extract + addnum\n",
    "username('olu', 'jah')"
   ]
  },
  {
   "cell_type": "code",
   "execution_count": null,
   "metadata": {},
   "outputs": [],
   "source": [
    "def username(first_name, last_name):\n",
    "#     result = []\n",
    "    return first_name[0].upper() +''+ last_name[:3].capitalize() + ''+ '01'\n",
    "\n",
    "username('Oluyinka', 'Solanke')\n",
    "    \n",
    "\n"
   ]
  },
  {
   "cell_type": "code",
   "execution_count": null,
   "metadata": {},
   "outputs": [],
   "source": [
    "class StudentName:\n",
    "    \n",
    "    def __init__(self):\n",
    "#         self.first_name: str = input('Enter first name: ')\n",
    "#         self.last_name: str = input('Enter last name: ')\n",
    "        self.full_name: str = StudentFullName().full_name\n",
    "        self.user_name = UserName().studusername\n",
    "        self.birth_date = input('Enter birth date: ')\n",
    "        self.address = Address().full_address\n",
    "#         self.stud_username = self.first_name[0].upper() +''+ self.last_name[:3].capitalize() + ''+ '01'\n",
    "\n",
    "        query = f\"\"\" \n",
    "        INSERT INTO student_details(\n",
    "        student_name, username, birth_date, address)\n",
    "        values ('{self.full_name}', '{self.user_name}', '{self.birth_date}', '{self.address}')\n",
    "        \"\"\"\n",
    "        cursor.execute(query)\n",
    "        con.commit()\n",
    "        print(cursor.rowcount, \"record inserted\")\n",
    "        \n",
    "class Address:\n",
    "    \n",
    "    def __init__(self):\n",
    "        self.street = input('Enter the street address: ').capitalize()\n",
    "        self.city = input('Enter the city name: ').capitalize()\n",
    "        self.county = input('Enter the county name: ').capitalize()\n",
    "        self.post_code = input('Enter the post code: ').upper()\n",
    "        self.full_address = f'{self.street}, {self.city}, ' \\\n",
    "                        f'{self.county}. {self.post_code}'        \n",
    "\n",
    "\n",
    "class StudentFullName:\n",
    "    \n",
    "    def __init__(self):\n",
    "        self.first_name: str = input('Enter first name: ')\n",
    "        self.last_name: str = input('Enter last name: ')\n",
    "        self.full_name: str = f'{self.first_name} {self.last_name}'\n",
    "\n",
    "class UserName:\n",
    "    \n",
    "    def __init__(self):\n",
    "        self.first_name = input('Enter first name: ')\n",
    "        self.last_name = input('Enter last name: ')\n",
    "        self.studusername = self.first_name[0].upper() +''+ self.last_name[:3].capitalize() + ''+ '01'\n",
    "            \n",
    "\n",
    "StudentName()\n",
    "    \n"
   ]
  },
  {
   "cell_type": "code",
   "execution_count": null,
   "metadata": {},
   "outputs": [],
   "source": []
  },
  {
   "cell_type": "code",
   "execution_count": null,
   "metadata": {},
   "outputs": [],
   "source": []
  },
  {
   "cell_type": "code",
   "execution_count": null,
   "metadata": {},
   "outputs": [],
   "source": [
    "import pandas as pd\n",
    "import MySQLdb\n",
    "con = MySQLdb.connect(user='python_user',passwd='Python123',host='localhost', db='Student_Reg')\n",
    "cursor = con.cursor()\n",
    "if cursor:\n",
    "    print('connection successful!')\n",
    "\n",
    "query = ('Select * from student_details')\n",
    "df = pd.read_sql(query, con)\n",
    "df"
   ]
  },
  {
   "cell_type": "code",
   "execution_count": null,
   "metadata": {},
   "outputs": [],
   "source": [
    "class StudentName:\n",
    "    \n",
    "    def __init__(self):\n",
    "    \n",
    "        self.first_name: str = input('Enter first name: ')\n",
    "        self.last_name: str = input('Enter last name: ')\n",
    "        self.full_name: str = f'{self.first_name} {self.last_name}'\n",
    "        self.user_name = self.first_name[0].upper() +''+ self.last_name[:3].capitalize() + ''+ '01'\n",
    "        self.birth_date = input('Enter birth date: ')\n",
    "        self.address = input('Enter your address: ')\n",
    "        \n",
    "        \n",
    "        query = f\"\"\" \n",
    "        INSERT INTO student_details(\n",
    "        student_name, username, birth_date, address)\n",
    "        values ('{self.full_name}', '{self.user_name}', '{self.birth_date}', '{self.address}')\n",
    "        \"\"\"\n",
    "        cursor.execute(query)\n",
    "        con.commit()\n",
    "        print(cursor.rowcount, \"record inserted\")\n",
    "\n",
    "StudentName()"
   ]
  },
  {
   "cell_type": "code",
   "execution_count": null,
   "metadata": {},
   "outputs": [],
   "source": [
    "class StudentName:\n",
    "    \n",
    "    def __init__(self):\n",
    "        self.first_name: str = input('Enter first name: ')\n",
    "        self.last_name: str = input('Enter last name: ')\n",
    "        query = f\"\"\" \n",
    "        INSERT INTO student_test(\n",
    "        first_name, last_name)\n",
    "        values ('{self.first_name}', '{self.last_name}')\n",
    "        \"\"\"\n",
    "        cursor.execute(query)\n",
    "        con.commit()\n",
    "        print(cursor.rowcount, \"record inserted\")\n",
    "\n",
    "StudentName()\n",
    "        \n",
    "#         self.full_name: str = f'{self.first_name} {self.last_name}'\n",
    "#         self.stud_username = None\n",
    "\n",
    "\n",
    " \n",
    "\n"
   ]
  },
  {
   "cell_type": "code",
   "execution_count": null,
   "metadata": {},
   "outputs": [],
   "source": []
  },
  {
   "cell_type": "code",
   "execution_count": null,
   "metadata": {},
   "outputs": [],
   "source": []
  }
 ],
 "metadata": {
  "kernelspec": {
   "display_name": "Python 3",
   "language": "python",
   "name": "python3"
  },
  "language_info": {
   "codemirror_mode": {
    "name": "ipython",
    "version": 3
   },
   "file_extension": ".py",
   "mimetype": "text/x-python",
   "name": "python",
   "nbconvert_exporter": "python",
   "pygments_lexer": "ipython3",
   "version": "3.7.6"
  }
 },
 "nbformat": 4,
 "nbformat_minor": 4
}
