{
 "cells": [
  {
   "cell_type": "code",
   "execution_count": null,
   "metadata": {},
   "outputs": [],
   "source": [
    "import requests\n",
    "import bs4\n",
    "from bs4 import BeautifulSoup as bs\n",
    "import pandas as pd\n",
    "\n",
    "url = \"https://www.bbc.co.uk/sport/football/premier-league/table\"\n",
    "response = requests.get(url)\n",
    "\n",
    "fixture_page = bs(response.content, 'lxml')\n",
    "# print(fixture_page.prettify())\n",
    "table = fixture_page.select(\"table.gs-o-table\")[0]\n",
    "columns = table.find(\"thead\").find_all(\"th\")\n",
    "# print(columns)\n",
    "column_names = [c.string for c in columns]\n",
    "print(column_names)\n",
    "# print([col for col in column_names][2:])\n",
    "\n",
    "table_rows = table.find(\"tbody\").find_all(\"tr\")\n",
    "# print(table_rows)\n",
    "l = []\n",
    "for tr in table_rows:\n",
    "    td = tr.find_all('td')\n",
    "    row = [str(tr.get_text()) for tr in td]\n",
    "    l.append(row)\n",
    "# print(l[0])\n",
    "\n",
    "df = pd.DataFrame(l, columns=column_names)\n",
    "df \n",
    "\n"
   ]
  },
  {
   "cell_type": "code",
   "execution_count": null,
   "metadata": {},
   "outputs": [],
   "source": [
    "\n",
    "import requests\n",
    "import bs4\n",
    "from bs4 import BeautifulSoup as bs\n",
    "import pandas as ps\n",
    "\n",
    "url = \"https://www.bbc.co.uk/sport/football/premier-league/table\"\n",
    "# response = requests.get(url)\n",
    "#OOP\n",
    "class PremierLeague:\n",
    "    url = \"https://www.bbc.co.uk/sport/football/premier-league/table\"\n",
    "\n",
    "    def __init__(self, url):\n",
    "        self.url = url\n",
    "        self.response = requests.get(url)\n",
    "        self.fixture_page = BeautifulSoup(response.content, 'lxml')\n",
    "        self.table = self.fixture_page.select(\"table.gs-o-table\")[0]\n",
    "        self.columns = self.table.find(\"thead\").find_all(\"th\")\n",
    "        self.column_names = [c.string for c in self.columns]\n",
    "        self.table_rows = self.table.find(\"tbody\").find_all(\"tr\")\n",
    "    \n",
    "    def get_pl_table_meta_data(self):\n",
    "        return self.table\n",
    "    \n",
    "    def get_columns(self):\n",
    "        self.columns = self.table.find(\"thead\").find_all(\"th\")\n",
    "        self.column_names = [c.string for c in self.columns]\n",
    "    \n",
    "    def get_table_rows(self):\n",
    "        return self.table_rows\n",
    "    \n",
    "    #@staticmethod\n",
    "    def table_to_df(self):\n",
    "        l = []\n",
    "        for tr in table_rows:\n",
    "            td = tr.find_all('td')\n",
    "            row = [str(tr.get_text()) for tr in td]\n",
    "            l.append(row)\n",
    "        df = pd.DataFrame(l, columns=column_names)\n",
    "        df\n",
    "\n",
    "df = pd.DataFrame(l, columns=column_names)\n",
    "\n",
    "        \n",
    "pl1 = PremierLeague(url)\n",
    "print(pl1.table_to_df())\n"
   ]
  },
  {
   "cell_type": "code",
   "execution_count": 1,
   "metadata": {},
   "outputs": [
    {
     "data": {
      "text/plain": [
       "'C:\\\\Users\\\\Olu\\\\PythonTraining\\\\WebScrapping_Practice'"
      ]
     },
     "execution_count": 1,
     "metadata": {},
     "output_type": "execute_result"
    }
   ],
   "source": [
    "pwd"
   ]
  }
 ],
 "metadata": {
  "kernelspec": {
   "display_name": "Python 3",
   "language": "python",
   "name": "python3"
  },
  "language_info": {
   "codemirror_mode": {
    "name": "ipython",
    "version": 3
   },
   "file_extension": ".py",
   "mimetype": "text/x-python",
   "name": "python",
   "nbconvert_exporter": "python",
   "pygments_lexer": "ipython3",
   "version": "3.7.6"
  }
 },
 "nbformat": 4,
 "nbformat_minor": 4
}
